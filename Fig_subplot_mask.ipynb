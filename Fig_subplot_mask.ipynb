{
 "cells": [
  {
   "cell_type": "code",
   "execution_count": 2,
   "metadata": {},
   "outputs": [
    {
     "name": "stderr",
     "output_type": "stream",
     "text": [
      "WARNING:hyperspy.api:The traitsui GUI elements are not available, probably because the hyperspy_gui_traitui package is not installed.\n"
     ]
    }
   ],
   "source": [
    "import hyperspy.api as hs\n",
    "import numpy as np\n",
    "from PIL import Image, ImageDraw\n",
    "import matplotlib.pyplot as plt\n",
    "from mpl_toolkits.axes_grid1.inset_locator import inset_axes"
   ]
  },
  {
   "cell_type": "code",
   "execution_count": 3,
   "metadata": {},
   "outputs": [],
   "source": [
    "import maskselector_gui as msg"
   ]
  },
  {
   "cell_type": "code",
   "execution_count": 3,
   "metadata": {},
   "outputs": [
    {
     "name": "stdout",
     "output_type": "stream",
     "text": [
      "Populating the interactive namespace from numpy and matplotlib\n"
     ]
    }
   ],
   "source": [
    "#To be activated if you want to plot outside of the notebook\n",
    "%pylab qt"
   ]
  },
  {
   "cell_type": "markdown",
   "metadata": {},
   "source": [
    "### Loading data"
   ]
  },
  {
   "cell_type": "code",
   "execution_count": 4,
   "metadata": {},
   "outputs": [],
   "source": [
    "haadf = hs.load('46_data/45_haadf_20k_as_44.emi')"
   ]
  },
  {
   "cell_type": "code",
   "execution_count": 5,
   "metadata": {},
   "outputs": [],
   "source": [
    "adf = hs.load('46_data/44_adf.dm3')"
   ]
  },
  {
   "cell_type": "code",
   "execution_count": 85,
   "metadata": {
    "collapsed": true
   },
   "outputs": [],
   "source": [
    "ebic = hs.load('46_data/44_ebic_area_13_20k.dm3')"
   ]
  },
  {
   "cell_type": "code",
   "execution_count": 7,
   "metadata": {
    "collapsed": true
   },
   "outputs": [],
   "source": [
    "Tecnai_ebic = hs.load('46_data/21 ebic as 20 better_tecnai.dm3')"
   ]
  },
  {
   "cell_type": "code",
   "execution_count": 8,
   "metadata": {},
   "outputs": [
    {
     "name": "stdout",
     "output_type": "stream",
     "text": [
      "Loading as spectrum\n"
     ]
    }
   ],
   "source": [
    "edx = hs.load('46_data/46_edx_20k_as_44.rpl')"
   ]
  },
  {
   "cell_type": "code",
   "execution_count": 9,
   "metadata": {},
   "outputs": [],
   "source": [
    "edx.axes_manager[2].units = \"eV\"\n",
    "edx.axes_manager[2].scale = 9.952\n",
    "edx.axes_manager[2].offset = -470"
   ]
  },
  {
   "cell_type": "code",
   "execution_count": 93,
   "metadata": {},
   "outputs": [],
   "source": [
    "edx.plot(navigator=ebic)"
   ]
  },
  {
   "cell_type": "code",
   "execution_count": 94,
   "metadata": {
    "collapsed": true
   },
   "outputs": [],
   "source": [
    "ebic.axes_manager.gui()"
   ]
  },
  {
   "cell_type": "code",
   "execution_count": 92,
   "metadata": {
    "collapsed": true
   },
   "outputs": [],
   "source": [
    "Tecnai_ebic.plot()"
   ]
  },
  {
   "cell_type": "markdown",
   "metadata": {},
   "source": [
    "### Normalization of the EBIC map in nA units (ampli. 0.2nA/V)"
   ]
  },
  {
   "cell_type": "code",
   "execution_count": 50,
   "metadata": {},
   "outputs": [],
   "source": [
    "vv_100mV = hs.load(\"41_ebic_100mV_p-p.dm3\")"
   ]
  },
  {
   "cell_type": "code",
   "execution_count": 87,
   "metadata": {
    "collapsed": true
   },
   "outputs": [],
   "source": [
    "ebic.change_dtype(\"float64\")"
   ]
  },
  {
   "cell_type": "code",
   "execution_count": 88,
   "metadata": {},
   "outputs": [],
   "source": [
    "ebic.data[:,:] = (ebic.data[:,:]-amin(ebic.data[:,:]))*0.2/(amax(vv_100mV.data)-amin(vv_100mV.data))"
   ]
  },
  {
   "cell_type": "code",
   "execution_count": 89,
   "metadata": {
    "collapsed": true
   },
   "outputs": [],
   "source": [
    "edx.plot(navigator=ebic)"
   ]
  },
  {
   "cell_type": "markdown",
   "metadata": {
    "collapsed": true
   },
   "source": [
    "### Analysis of EDX data"
   ]
  },
  {
   "cell_type": "code",
   "execution_count": null,
   "metadata": {},
   "outputs": [],
   "source": [
    "#mask_obj = msg.Interactive_plot(ebic.data)"
   ]
  },
  {
   "cell_type": "code",
   "execution_count": null,
   "metadata": {},
   "outputs": [],
   "source": [
    "#mask_vac = mask_obj.main.mask"
   ]
  },
  {
   "cell_type": "code",
   "execution_count": null,
   "metadata": {
    "collapsed": true
   },
   "outputs": [],
   "source": [
    "#save(\"mask\", mask_vac)"
   ]
  },
  {
   "cell_type": "code",
   "execution_count": 10,
   "metadata": {},
   "outputs": [],
   "source": [
    "mask_vac = load(\"mask.npy\")"
   ]
  },
  {
   "cell_type": "code",
   "execution_count": null,
   "metadata": {},
   "outputs": [],
   "source": [
    "fig = plt.figure()\n",
    "ax1 = fig.add_subplot(111)\n",
    "im = ax1.imshow(mask_vac[:,:])"
   ]
  },
  {
   "cell_type": "code",
   "execution_count": 11,
   "metadata": {},
   "outputs": [],
   "source": [
    "ave_edx_ebic_true = np.zeros_like(edx.data[0,0,:], dtype=uint64)\n",
    "ave_edx_ebic_false = np.zeros_like(edx.data[0,0,:], dtype=uint64)\n",
    "true = 0\n",
    "false = 0\n",
    "\n",
    "for i in range(len(edx.data[:,0,0])):\n",
    "    for j in range(len(edx.data[0,:,0])):\n",
    "        if mask_vac[i,j] == True:\n",
    "            ave_edx_ebic_true[:] = ave_edx_ebic_true[:] + edx.data[i,j,:]\n",
    "            true = true + 1\n",
    "        else:\n",
    "            ave_edx_ebic_false[:] = ave_edx_ebic_false[:] + edx.data[i,j,:]\n",
    "            false = false + 1"
   ]
  },
  {
   "cell_type": "code",
   "execution_count": 12,
   "metadata": {},
   "outputs": [],
   "source": [
    "x_ev = np.zeros_like(edx.data[0,0,:], dtype=float16)\n",
    "for i in range(len(x_ev)):\n",
    "    x_ev[i]=i*9.952-470"
   ]
  },
  {
   "cell_type": "markdown",
   "metadata": {},
   "source": [
    "#### Plot of the averaged spectra inside and outside the mask"
   ]
  },
  {
   "cell_type": "code",
   "execution_count": 17,
   "metadata": {},
   "outputs": [
    {
     "data": {
      "text/plain": [
       "<matplotlib.patches.Polygon at 0x7f7944061e90>"
      ]
     },
     "execution_count": 17,
     "metadata": {},
     "output_type": "execute_result"
    }
   ],
   "source": [
    "plot(x_ev, float64(ave_edx_ebic_true)/float64(true), label='inside', lw=2)\n",
    "plot(x_ev, float64(ave_edx_ebic_false)/float64(false)-0.025, label='outside', lw=2)\n",
    "plot(x_ev, float64(ave_edx_ebic_true)/float64(true)-float64(ave_edx_ebic_false)/float64(false)-0.03, label='difference', lw=2)\n",
    "pylab.ylim([0,1])\n",
    "plt.axvspan(240, 320, color=\"green\", alpha=0.5)\n",
    "#plt.axvline(x=280, label='C') #C\n",
    "#plt.axvline(x=390) #N\n",
    "plt.axvspan(350, 430, color=\"red\", alpha=0.5)\n",
    "#plt.axvline(x=520) #O\n",
    "plt.axvspan(480, 560, color=\"blue\", alpha=0.5)\n",
    "#plt.axvline(x=1012) #Zn La\n",
    "#plt.axvline(x=1486) #Al Ka\n",
    "#plt.axvline(x=1739) #Si K\n",
    "#plt.axvline(x=1774) #W M\n",
    "#plt.axvline(2290, 2390, color=\"orange\", alpha=0.5) #Pb M\n",
    "plt.axvspan(3900, 3980, color=\"yellow\", alpha=0.5)\n",
    "#plt.axvline(x=3937) #I La"
   ]
  },
  {
   "cell_type": "code",
   "execution_count": 33,
   "metadata": {},
   "outputs": [],
   "source": [
    "fig, ax = plt.subplots(1, 1, figsize=[24, 13])\n",
    "\n",
    "plot(x_ev, float64(ave_edx_ebic_true)/float64(true), lw=4) #, cmap='gray'\n",
    "plot(x_ev, float64(ave_edx_ebic_false)/float64(false)-0.025, lw=4)\n",
    "plot(x_ev, float64(ave_edx_ebic_true)/float64(true)-float64(ave_edx_ebic_false)/float64(false)-0.03, lw=4)\n",
    "pylab.xlim([130,5000])\n",
    "plt.axvspan(240, 320, color=\"green\", alpha=0.5)\n",
    "plt.axvspan(350, 430, color=\"red\", alpha=0.5)\n",
    "plt.axvspan(480, 560, color=\"blue\", alpha=0.5)\n",
    "plt.axvspan(2300, 2380, color=\"orange\", alpha=0.5) #Pb M\n",
    "plt.axvspan(3900, 3980, color=\"yellow\", alpha=0.5)\n",
    "plt.xlabel('eV', fontsize=25)\n",
    "plt.xticks(fontsize=25)\n",
    "plt.ylabel('Average counts per pixel', fontsize=25)\n",
    "plt.yticks(fontsize=25)\n",
    "\n",
    "axins = inset_axes(ax,\n",
    "                   width=\"50%\",  # width = 30% of parent_bbox\n",
    "                   height=2.5,  # height : 1 inch\n",
    "                   loc=1)\n",
    "im = plot(x_ev, float64(ave_edx_ebic_true)/float64(true), lw=3) #, cmap='gray'\n",
    "im = plot(x_ev, float64(ave_edx_ebic_false)/float64(false)-0.025, label='outside', lw=3)\n",
    "pylab.xlim([130,20000])\n",
    "plt.yticks(visible=False)\n",
    "plt.xlabel('eV', fontsize=15)\n",
    "plt.xticks(fontsize=15)\n",
    "\n",
    "plt.draw()\n",
    "plt.show()\n",
    "fig.savefig('46_image/Spectra.png', dpi=300)"
   ]
  },
  {
   "cell_type": "markdown",
   "metadata": {},
   "source": [
    "#### Plot of the maps"
   ]
  },
  {
   "cell_type": "code",
   "execution_count": 91,
   "metadata": {},
   "outputs": [
    {
     "name": "stderr",
     "output_type": "stream",
     "text": [
      "/home/martial/hyperspy09/src/hyperspy/hyperspy/signal.py:2622: VisibleDeprecationWarning: Indexing the `Signal` class is deprecated and will be removed in HyperSpy 0.9. Please use `.isig` and/or `.inav` instead.\n",
      "  VisibleDeprecationWarning)\n"
     ]
    }
   ],
   "source": [
    "C_map = edx.integrate_in_range(signal_range=(240.,320.))\n",
    "C_map_bin = C_map.rebin((256,256))"
   ]
  },
  {
   "cell_type": "code",
   "execution_count": 73,
   "metadata": {
    "collapsed": true
   },
   "outputs": [],
   "source": [
    "C_map_bin.plot()"
   ]
  },
  {
   "cell_type": "code",
   "execution_count": 19,
   "metadata": {
    "collapsed": true
   },
   "outputs": [],
   "source": [
    "N_map = edx.integrate_in_range(signal_range=(350.,430.))\n",
    "N_map_bin = N_map.rebin((256,256))"
   ]
  },
  {
   "cell_type": "code",
   "execution_count": null,
   "metadata": {
    "collapsed": true
   },
   "outputs": [],
   "source": [
    "N_map_bin.plot()"
   ]
  },
  {
   "cell_type": "code",
   "execution_count": 20,
   "metadata": {
    "collapsed": true
   },
   "outputs": [],
   "source": [
    "O_map = edx.integrate_in_range(signal_range=(480.,560.))\n",
    "O_map_bin = O_map.rebin((256,256))"
   ]
  },
  {
   "cell_type": "code",
   "execution_count": null,
   "metadata": {
    "collapsed": true
   },
   "outputs": [],
   "source": [
    "O_map_bin.plot()"
   ]
  },
  {
   "cell_type": "code",
   "execution_count": 27,
   "metadata": {
    "collapsed": true
   },
   "outputs": [],
   "source": [
    "Pb_map = edx.integrate_in_range(signal_range=(2290.,2390.))\n",
    "Pb_map_bin = Pb_map.rebin((256,256))"
   ]
  },
  {
   "cell_type": "code",
   "execution_count": 22,
   "metadata": {
    "collapsed": true
   },
   "outputs": [],
   "source": [
    "I_map = edx.integrate_in_range(signal_range=(3900.,3980.))\n",
    "I_map_bin = I_map.rebin((256,256))"
   ]
  },
  {
   "cell_type": "code",
   "execution_count": null,
   "metadata": {
    "collapsed": true
   },
   "outputs": [],
   "source": [
    "I_map_bin.plot()"
   ]
  },
  {
   "cell_type": "markdown",
   "metadata": {},
   "source": [
    "### Plot data"
   ]
  },
  {
   "cell_type": "code",
   "execution_count": 29,
   "metadata": {
    "scrolled": true
   },
   "outputs": [],
   "source": [
    "fig = plt.figure()\n",
    "fig.subplots_adjust(hspace=0.01, wspace=0.)\n",
    "\n",
    "fig.set_size_inches(6.2,5.915)\n",
    "#fig.set_dpi(80)\n",
    "#ax.set_title('Average')\n",
    "#plt.text(1.5*specImg3D.data.shape[1]-r1+20, specImg3D.data.shape[2]/4, \"1 A\", fontsize=50)\n",
    "#plt.text(1.5*specImg3D.data.shape[1]-r2+20, specImg3D.data.shape[2]/6, \"0.8 A\", fontsize=50)\n",
    "\n",
    "ax1 = fig.add_subplot(331)\n",
    "im = ax1.imshow(Tecnai_ebic.data[:,:]) #, cmap='gray'\n",
    "plt.text(12.5, Tecnai_ebic.data.shape[1]-25, '(a)', fontsize=12, bbox=dict(facecolor='white', alpha=1))\n",
    "plt.axis('off')\n",
    "\n",
    "ax2 = fig.add_subplot(332)\n",
    "im = ax2.imshow(haadf.data[:,:]) #, cmap='gray'\n",
    "plt.text(50, haadf.data.shape[1]-100, '(b)', fontsize=12, bbox=dict(facecolor='white', alpha=1))\n",
    "plt.axis('off')\n",
    "\n",
    "ax3 = fig.add_subplot(333)\n",
    "im = ax3.imshow(adf.data[:,:]) #, cmap='gray'\n",
    "plt.text(25, adf.data.shape[1]-50, '(c)', fontsize=12, bbox=dict(facecolor='white', alpha=1))\n",
    "plt.axis('off')\n",
    "\n",
    "ax4 = fig.add_subplot(334)\n",
    "im = ax4.imshow(C_map_bin.data[:,:]) #, cmap='gray'\n",
    "plt.text(12.5/2, I_map_bin.data.shape[1]-12.5, '(d)', fontsize=12, bbox=dict(facecolor='white', alpha=1))\n",
    "plt.axis('off')\n",
    "\n",
    "ax5 = fig.add_subplot(335)\n",
    "im = ax5.imshow(N_map_bin.data[:,:]) #, cmap='gray'\n",
    "plt.text(12.5/2, N_map_bin.data.shape[1]-12.5, '(e)', fontsize=12, bbox=dict(facecolor='white', alpha=1))\n",
    "plt.axis('off')\n",
    "\n",
    "ax6 = fig.add_subplot(336)\n",
    "im = ax6.imshow(O_map_bin.data[:,:]) #, cmap='gray'\n",
    "plt.text(12.5/2, O_map_bin.data.shape[1]-12.5, '(f)', fontsize=12, bbox=dict(facecolor='white', alpha=1))\n",
    "plt.axis('off')\n",
    "\n",
    "ax8 = fig.add_subplot(337)\n",
    "im = ax8.imshow(Pb_map_bin.data[:,:]) #, cmap='gray'\n",
    "plt.text(12.5/2, Pb_map_bin.data.shape[1]-12.5, '(g)', fontsize=12, bbox=dict(facecolor='white', alpha=1))\n",
    "plt.axis('off')\n",
    "\n",
    "ax7 = fig.add_subplot(338)\n",
    "im = ax7.imshow(I_map_bin.data[:,:]) #, cmap='gray'\n",
    "plt.text(12.5/2, I_map_bin.data.shape[1]-12.5, '(h)', fontsize=12, bbox=dict(facecolor='white', alpha=1))\n",
    "plt.axis('off')\n",
    "\n",
    "ax9 = fig.add_subplot(339)\n",
    "im = ax9.imshow(ebic.data[:,:]) #, cmap='gray'\n",
    "plt.text(25, ebic.data.shape[1]-50, '(i)', fontsize=12, bbox=dict(facecolor='white', alpha=1))\n",
    "plt.axis('off')\n",
    "\n",
    "fig.savefig('46_image/fig1.png', dpi=300)"
   ]
  },
  {
   "cell_type": "code",
   "execution_count": null,
   "metadata": {
    "collapsed": true
   },
   "outputs": [],
   "source": []
  },
  {
   "cell_type": "code",
   "execution_count": null,
   "metadata": {
    "collapsed": true
   },
   "outputs": [],
   "source": []
  }
 ],
 "metadata": {
  "kernelspec": {
   "display_name": "Python 3",
   "language": "python",
   "name": "python3"
  },
  "language_info": {
   "codemirror_mode": {
    "name": "ipython",
    "version": 3
   },
   "file_extension": ".py",
   "mimetype": "text/x-python",
   "name": "python",
   "nbconvert_exporter": "python",
   "pygments_lexer": "ipython3",
   "version": "3.6.1"
  }
 },
 "nbformat": 4,
 "nbformat_minor": 1
}
